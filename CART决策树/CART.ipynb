{
 "cells": [
  {
   "cell_type": "markdown",
   "id": "9f3333ac",
   "metadata": {},
   "source": [
    "# 如何使用 CART 算法来创建分类树"
   ]
  },
  {
   "cell_type": "code",
   "execution_count": 1,
   "id": "ab9b2c4b",
   "metadata": {
    "ExecuteTime": {
     "end_time": "2024-10-02T13:59:14.073255Z",
     "start_time": "2024-10-02T13:59:10.689608Z"
    }
   },
   "outputs": [],
   "source": [
    "# encoding=utf-8\n",
    "from sklearn.model_selection import train_test_split\n",
    "from sklearn.metrics import accuracy_score\n",
    "from sklearn.tree import DecisionTreeClassifier\n",
    "from sklearn.datasets import load_iris"
   ]
  },
  {
   "cell_type": "code",
   "execution_count": 2,
   "id": "ed786447",
   "metadata": {
    "ExecuteTime": {
     "end_time": "2024-10-02T13:59:20.958184Z",
     "start_time": "2024-10-02T13:59:20.927419Z"
    }
   },
   "outputs": [],
   "source": [
    "# 准备数据集\n",
    "iris=load_iris()\n",
    "# 获取特征集和分类标识\n",
    "features = iris.data\n",
    "labels = iris.target\n",
    "# 随机抽取33%的数据作为测试集，其余为训练集\n",
    "train_features, test_features, train_labels, test_labels = train_test_split(features, labels, test_size=0.33, random_state=0)"
   ]
  },
  {
   "cell_type": "code",
   "execution_count": 3,
   "id": "d2a29ed4",
   "metadata": {
    "ExecuteTime": {
     "end_time": "2024-10-02T13:59:22.421418Z",
     "start_time": "2024-10-02T13:59:22.398795Z"
    }
   },
   "outputs": [
    {
     "name": "stdout",
     "output_type": "stream",
     "text": [
      "CART分类树准确率 0.9800\n"
     ]
    }
   ],
   "source": [
    "# 创建CART分类树\n",
    "clf = DecisionTreeClassifier(criterion='gini')\n",
    "# 拟合构造CART分类树\n",
    "clf = clf.fit(train_features, train_labels)\n",
    "# 用CART分类树做预测\n",
    "test_predict = clf.predict(test_features)\n",
    "# 预测结果与测试集结果作比对\n",
    "score = accuracy_score(test_labels, test_predict)\n",
    "print(\"CART分类树准确率 %.4lf\" % score)"
   ]
  },
  {
   "cell_type": "markdown",
   "id": "e93b8f55",
   "metadata": {},
   "source": [
    "# 如何使用 CART 回归树做预测"
   ]
  },
  {
   "cell_type": "code",
   "execution_count": 4,
   "id": "6feea2d0",
   "metadata": {
    "ExecuteTime": {
     "end_time": "2024-10-02T13:59:26.820923Z",
     "start_time": "2024-10-02T13:59:26.811905Z"
    }
   },
   "outputs": [],
   "source": [
    "# encoding=utf-8\n",
    "from sklearn.metrics import mean_squared_error\n",
    "from sklearn.model_selection import train_test_split\n",
    "from sklearn.datasets import fetch_california_housing\n",
    "from sklearn.metrics import r2_score,mean_absolute_error,mean_squared_error\n",
    "from sklearn.tree import DecisionTreeRegressor"
   ]
  },
  {
   "cell_type": "code",
   "execution_count": 5,
   "id": "b4b23c83",
   "metadata": {
    "ExecuteTime": {
     "end_time": "2024-10-02T13:59:28.874895Z",
     "start_time": "2024-10-02T13:59:28.847417Z"
    }
   },
   "outputs": [
    {
     "name": "stdout",
     "output_type": "stream",
     "text": [
      "['MedInc', 'HouseAge', 'AveRooms', 'AveBedrms', 'Population', 'AveOccup', 'Latitude', 'Longitude']\n"
     ]
    }
   ],
   "source": [
    "# 准备数据集\n",
    "housing = fetch_california_housing()\n",
    "# 探索数据\n",
    "print(housing.feature_names)\n",
    "# 获取特征集和房价\n",
    "features = housing.data\n",
    "prices = housing.target\n",
    "# 随机抽取33%的数据作为测试集，其余为训练集\n",
    "train_features, test_features, train_price, test_price = train_test_split(features, prices, test_size=0.33)"
   ]
  },
  {
   "cell_type": "code",
   "execution_count": 6,
   "id": "78a09360",
   "metadata": {
    "ExecuteTime": {
     "end_time": "2024-10-02T13:59:31.443553Z",
     "start_time": "2024-10-02T13:59:30.776618Z"
    }
   },
   "outputs": [
    {
     "name": "stdout",
     "output_type": "stream",
     "text": [
      "回归树二乘偏差均值: 0.5241464341379918\n",
      "回归树绝对值偏差均值: 0.4637655314151497\n"
     ]
    }
   ],
   "source": [
    "# 创建CART回归树\n",
    "dtr=DecisionTreeRegressor()\n",
    "# 拟合构造CART回归树\n",
    "dtr.fit(train_features, train_price)\n",
    "# 预测测试集中的房价\n",
    "predict_price = dtr.predict(test_features)\n",
    "# 测试集的结果评价\n",
    "print('回归树二乘偏差均值:', mean_squared_error(test_price, predict_price))\n",
    "print('回归树绝对值偏差均值:', mean_absolute_error(test_price, predict_price)) "
   ]
  },
  {
   "cell_type": "code",
   "execution_count": null,
   "id": "7aab769c",
   "metadata": {},
   "outputs": [],
   "source": []
  }
 ],
 "metadata": {
  "kernelspec": {
   "display_name": "pytorch",
   "language": "python",
   "name": "pytorch"
  },
  "language_info": {
   "codemirror_mode": {
    "name": "ipython",
    "version": 3
   },
   "file_extension": ".py",
   "mimetype": "text/x-python",
   "name": "python",
   "nbconvert_exporter": "python",
   "pygments_lexer": "ipython3",
   "version": "3.9.15"
  }
 },
 "nbformat": 4,
 "nbformat_minor": 5
}
